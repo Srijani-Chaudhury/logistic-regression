{
 "cells": [
  {
   "cell_type": "code",
   "execution_count": 1,
   "metadata": {},
   "outputs": [],
   "source": [
    "import pandas as pd"
   ]
  },
  {
   "cell_type": "code",
   "execution_count": 2,
   "metadata": {},
   "outputs": [],
   "source": [
    "data=pd.read_csv('dataset.txt')"
   ]
  },
  {
   "cell_type": "code",
   "execution_count": 3,
   "metadata": {},
   "outputs": [],
   "source": [
    "import numpy as np"
   ]
  },
  {
   "cell_type": "code",
   "execution_count": 8,
   "metadata": {},
   "outputs": [],
   "source": [
    "class LogisticRegression:\n",
    "    def __init__(self,lr=0.001,iters=100000,lam=100,penalty=None):\n",
    "        self.lr=lr\n",
    "        self.iters=iters\n",
    "        self.weights=None\n",
    "        self.b=None\n",
    "        self.J=0\n",
    "        self.penalty=penalty\n",
    "        self.lam=lam\n",
    "    def fit(self,X,y):\n",
    "        samples,features=X.shape\n",
    "        self.weights=np.zeros(features)\n",
    "        self.b=0\n",
    "        \n",
    "        for _ in range(self.iters):\n",
    "            model=np.dot(X,self.weights)+self.b\n",
    "            y_predicted=self._sigmoid(model)\n",
    "            \n",
    "            if self.penalty == None:\n",
    "                 self.J=(-1/samples)*(np.sum(y*np.log(y_predicted)+(1-y)*np.log(1-y_predicted)))\n",
    "            elif self.penalty=='L1':\n",
    "                 self.J=(-1/samples)*(np.sum(y*np.log(y_predicted)+(1-y)*np.log(1-y_predicted)))+(self.lam/2*samples)*np.abs(self.weights)\n",
    "            else:\n",
    "                                       \n",
    "                 self.J=(-1/samples)*(np.sum(y*np.log(y_predicted)+(1-y)*np.log(1-y_predicted)))+(self.lam/2*samples)*np.square(self.weights)                   \n",
    "                \n",
    "            \n",
    "            dw=(1 / samples) * np.dot(X.T,(y_predicted - y))\n",
    "            db = (1 / samples) * np.sum(y_predicted - y)\n",
    "            \n",
    "            \n",
    "            self.weights -= self.lr * dw\n",
    "            self.b -= self.lr * db\n",
    "\n",
    "    def predict(self,X):\n",
    "        linear_model = np.dot(X, self.weights) + self.b\n",
    "        y_predicted = self._sigmoid(linear_model)\n",
    "        y_predicted_cls = [1 if i > 0.5 else 0 for i in y_predicted]\n",
    "        return np.array(y_predicted_cls)\n",
    "    \n",
    "    def _sigmoid(self,x):\n",
    "        return 1/(1+np.exp(-x))"
   ]
  },
  {
   "cell_type": "code",
   "execution_count": 9,
   "metadata": {},
   "outputs": [],
   "source": [
    "from sklearn.model_selection import train_test_split"
   ]
  },
  {
   "cell_type": "code",
   "execution_count": 10,
   "metadata": {},
   "outputs": [],
   "source": [
    "X = np.array(data.iloc[:,:2].values)\n",
    "y = np.array(data.iloc[:,-1].values)"
   ]
  },
  {
   "cell_type": "code",
   "execution_count": null,
   "metadata": {},
   "outputs": [],
   "source": []
  },
  {
   "cell_type": "code",
   "execution_count": 11,
   "metadata": {},
   "outputs": [],
   "source": [
    "X_train,X_test,Y_train,Y_test=train_test_split(X,y,test_size=0.2,random_state=7)\n"
   ]
  },
  {
   "cell_type": "code",
   "execution_count": 12,
   "metadata": {},
   "outputs": [],
   "source": [
    "l=LogisticRegression()"
   ]
  },
  {
   "cell_type": "code",
   "execution_count": 13,
   "metadata": {},
   "outputs": [],
   "source": [
    "l.fit(X_train,Y_train)"
   ]
  },
  {
   "cell_type": "code",
   "execution_count": 14,
   "metadata": {},
   "outputs": [],
   "source": [
    "y_out=l.predict(X_test) "
   ]
  },
  {
   "cell_type": "code",
   "execution_count": 15,
   "metadata": {},
   "outputs": [],
   "source": [
    "from sklearn.metrics import accuracy_score"
   ]
  },
  {
   "cell_type": "code",
   "execution_count": 16,
   "metadata": {},
   "outputs": [
    {
     "data": {
      "text/plain": [
       "1.0"
      ]
     },
     "execution_count": 16,
     "metadata": {},
     "output_type": "execute_result"
    }
   ],
   "source": [
    "accuracy_score(y_out,Y_test)"
   ]
  },
  {
   "cell_type": "code",
   "execution_count": null,
   "metadata": {},
   "outputs": [],
   "source": []
  },
  {
   "cell_type": "code",
   "execution_count": null,
   "metadata": {},
   "outputs": [],
   "source": []
  }
 ],
 "metadata": {
  "kernelspec": {
   "display_name": "Python 3",
   "language": "python",
   "name": "python3"
  },
  "language_info": {
   "codemirror_mode": {
    "name": "ipython",
    "version": 3
   },
   "file_extension": ".py",
   "mimetype": "text/x-python",
   "name": "python",
   "nbconvert_exporter": "python",
   "pygments_lexer": "ipython3",
   "version": "3.7.4"
  }
 },
 "nbformat": 4,
 "nbformat_minor": 2
}
